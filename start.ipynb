{
 "cells": [
  {
   "cell_type": "code",
   "execution_count": 16,
   "id": "174d7fe2",
   "metadata": {},
   "outputs": [],
   "source": [
    "import json\n",
    "\n",
    "#what do you need to scrap\n",
    "def base():\n",
    "    with open('preparation/category_link.json', \"r\") as file: #file with all links (from finn.no)\n",
    "        data = json.load(file)\n",
    "    v = dict(enumerate(data.keys(), 1))\n",
    "    param = {}\n",
    "    #wich category\n",
    "    print('Сhoose a category:', *(map(lambda x: f'{x[0]}) {x[1]}', v.items())), sep='\\n', end='\\n(pick number)\\n')\n",
    "    for tr in range(1, 6):\n",
    "        try:\n",
    "            chose_categ = input()\n",
    "            if chose.isdigit():\n",
    "                chose_categ = v[int(chose)]\n",
    "            url = data[chose]\n",
    "            break\n",
    "        except:\n",
    "            print('Something wrong, try again.')\n",
    "\n",
    "    #choose cities or city with radius\n",
    "    print('Do you want to select 1 - \"cities\" or 2 - \"city with radius\"? (pick number)')\n",
    "    for tr in range(1, 6):\n",
    "        chose = input()\n",
    "        if chose in ('1', '2'):\n",
    "            break\n",
    "        else:\n",
    "            print('Something wrong, try again.')\n",
    "            \n",
    "    #if cities\n",
    "    if chose == '1':\n",
    "        with open('preparation/omrde.json', \"r\") as file: #file with cities (from finn.no)\n",
    "            data = json.load(file)\n",
    "            \n",
    "    #with cities\n",
    "        print('Choose the area\\city(use comma and one space between if there is more than one)')\n",
    "        for tr in range(1, 6):\n",
    "            try:\n",
    "                chose = input().title().split(', ')\n",
    "                cit = []\n",
    "                for c in chose:\n",
    "                    if c in data:\n",
    "                        cit.append('='.join(data[c]))\n",
    "                print(f'Accepted {len(cit)} cities out of {len(chose)}')\n",
    "                if len(cit) == 0:\n",
    "                    raise Error\n",
    "                break\n",
    "            except:\n",
    "                print('Something wrong, try again.')\n",
    "        #all param\n",
    "        param = f'{\"&\".join(cit)}&page=1&sort=PUBLISHED_DESC'\n",
    "    \n",
    "    #if one city with radius\n",
    "    elif chose == '2':\n",
    "        with open('preparation/no.json', \"r\") as file: #file with cities (https://simplemaps.com/data/no-cities)\n",
    "            data = json.load(file)\n",
    "            data = dict(map(lambda x: (x[\"city\"], (x[\"lat\"], x[\"lng\"])),data))\n",
    "            \n",
    "    #wich city + radius\n",
    "        print('Choose the area and radius(from 200 to 100000 meter) (use one space between)')\n",
    "        for tr in (1, 6):\n",
    "            try:\n",
    "                chose = input().split()\n",
    "                chose = (chose[0].title(), int(chose[1]))\n",
    "                if 200 < chose[1] <100000:\n",
    "                    if chose[0] in data:\n",
    "                        break\n",
    "                    print('city fail')\n",
    "                print('radius fail')\n",
    "            except:\n",
    "                print('Something wrong, try again.')\n",
    "                \n",
    "        #all param\n",
    "        param = (('geoLocationName', chose[0]),\n",
    "            ('lat', data[chose[0]][0]),\n",
    "            ('lon', data[chose[0]][1]),\n",
    "            ('radius', f'{chose[1]}'),\n",
    "            ('sort', 'PUBLISHED_DESC'),\n",
    "            ('page', '1'))\n",
    "        param = '&'.join(map(lambda x: f'{x[0]}={x[1]}', param))\n",
    "    \n",
    "    #base parametr \n",
    "    data = (url, param)\n",
    "    return data"
   ]
  },
  {
   "cell_type": "code",
   "execution_count": 17,
   "id": "e664c8fd",
   "metadata": {},
   "outputs": [
    {
     "name": "stdout",
     "output_type": "stream",
     "text": [
      "Сhoose a category:\n",
      "1) Bolig til salgs\n",
      "2) Nye boliger\n",
      "3) Tomter\n",
      "4) Fritidsbolig til salgs\n",
      "5) Fritidstomter\n",
      "6) Bolig til leie\n",
      "7) Hjerterom - Bolig til leie\n",
      "8) Bolig ønskes leid\n",
      "9) Næringseiendom til salgs\n",
      "10) Næringseiendom til leie\n",
      "11) Næringstomter\n",
      "12) Bedrifter til salgs\n",
      "13) Feriehus og hytter til leie\n",
      "14) Nye boliger, kommer for salg\n",
      "(pick number)\n",
      "1\n",
      "Something wrong, try again.\n",
      "2\n",
      "Something wrong, try again.\n",
      "1\n",
      "Something wrong, try again.\n",
      "2\n",
      "Something wrong, try again.\n",
      "1\n",
      "Something wrong, try again.\n",
      "Do you want to select 1 - \"cities\" or 2 - \"city with radius\"? (pick number)\n",
      "2\n",
      "Choose the area and radius(from 200 to 100000 meter) (use one space between)\n",
      "w\n",
      "Something wrong, try again.\n",
      "w\n",
      "Something wrong, try again.\n"
     ]
    },
    {
     "ename": "KeyError",
     "evalue": "'w'",
     "output_type": "error",
     "traceback": [
      "\u001b[0;31m---------------------------------------------------------------------------\u001b[0m",
      "\u001b[0;31mKeyError\u001b[0m                                  Traceback (most recent call last)",
      "Cell \u001b[0;32mIn[17], line 1\u001b[0m\n\u001b[0;32m----> 1\u001b[0m f \u001b[38;5;241m=\u001b[39m \u001b[43mbase\u001b[49m\u001b[43m(\u001b[49m\u001b[43m)\u001b[49m\n",
      "Cell \u001b[0;32mIn[16], line 75\u001b[0m, in \u001b[0;36mbase\u001b[0;34m()\u001b[0m\n\u001b[1;32m     71\u001b[0m             \u001b[38;5;28mprint\u001b[39m(\u001b[38;5;124m'\u001b[39m\u001b[38;5;124mSomething wrong, try again.\u001b[39m\u001b[38;5;124m'\u001b[39m)\n\u001b[1;32m     73\u001b[0m     \u001b[38;5;66;03m#all param\u001b[39;00m\n\u001b[1;32m     74\u001b[0m     param \u001b[38;5;241m=\u001b[39m ((\u001b[38;5;124m'\u001b[39m\u001b[38;5;124mgeoLocationName\u001b[39m\u001b[38;5;124m'\u001b[39m, chose[\u001b[38;5;241m0\u001b[39m]),\n\u001b[0;32m---> 75\u001b[0m         (\u001b[38;5;124m'\u001b[39m\u001b[38;5;124mlat\u001b[39m\u001b[38;5;124m'\u001b[39m, \u001b[43mdata\u001b[49m\u001b[43m[\u001b[49m\u001b[43mchose\u001b[49m\u001b[43m[\u001b[49m\u001b[38;5;241;43m0\u001b[39;49m\u001b[43m]\u001b[49m\u001b[43m]\u001b[49m[\u001b[38;5;241m0\u001b[39m]),\n\u001b[1;32m     76\u001b[0m         (\u001b[38;5;124m'\u001b[39m\u001b[38;5;124mlon\u001b[39m\u001b[38;5;124m'\u001b[39m, data[chose[\u001b[38;5;241m0\u001b[39m]][\u001b[38;5;241m1\u001b[39m]),\n\u001b[1;32m     77\u001b[0m         (\u001b[38;5;124m'\u001b[39m\u001b[38;5;124mradius\u001b[39m\u001b[38;5;124m'\u001b[39m, \u001b[38;5;124mf\u001b[39m\u001b[38;5;124m'\u001b[39m\u001b[38;5;132;01m{\u001b[39;00mchose[\u001b[38;5;241m1\u001b[39m]\u001b[38;5;132;01m}\u001b[39;00m\u001b[38;5;124m'\u001b[39m),\n\u001b[1;32m     78\u001b[0m         (\u001b[38;5;124m'\u001b[39m\u001b[38;5;124msort\u001b[39m\u001b[38;5;124m'\u001b[39m, \u001b[38;5;124m'\u001b[39m\u001b[38;5;124mPUBLISHED_DESC\u001b[39m\u001b[38;5;124m'\u001b[39m),\n\u001b[1;32m     79\u001b[0m         (\u001b[38;5;124m'\u001b[39m\u001b[38;5;124mpage\u001b[39m\u001b[38;5;124m'\u001b[39m, \u001b[38;5;124m'\u001b[39m\u001b[38;5;124m1\u001b[39m\u001b[38;5;124m'\u001b[39m))\n\u001b[1;32m     80\u001b[0m     param \u001b[38;5;241m=\u001b[39m \u001b[38;5;124m'\u001b[39m\u001b[38;5;124m&\u001b[39m\u001b[38;5;124m'\u001b[39m\u001b[38;5;241m.\u001b[39mjoin(\u001b[38;5;28mmap\u001b[39m(\u001b[38;5;28;01mlambda\u001b[39;00m x: \u001b[38;5;124mf\u001b[39m\u001b[38;5;124m'\u001b[39m\u001b[38;5;132;01m{\u001b[39;00mx[\u001b[38;5;241m0\u001b[39m]\u001b[38;5;132;01m}\u001b[39;00m\u001b[38;5;124m=\u001b[39m\u001b[38;5;132;01m{\u001b[39;00mx[\u001b[38;5;241m1\u001b[39m]\u001b[38;5;132;01m}\u001b[39;00m\u001b[38;5;124m'\u001b[39m, param))\n\u001b[1;32m     82\u001b[0m \u001b[38;5;66;03m#base parametr \u001b[39;00m\n",
      "\u001b[0;31mKeyError\u001b[0m: 'w'"
     ]
    }
   ],
   "source": [
    "f = base()"
   ]
  },
  {
   "cell_type": "code",
   "execution_count": null,
   "id": "4b9b85dd",
   "metadata": {},
   "outputs": [],
   "source": [
    "all_data = collect(url, param, options)"
   ]
  },
  {
   "cell_type": "code",
   "execution_count": null,
   "id": "d7643a75",
   "metadata": {},
   "outputs": [],
   "source": [
    "def data(alt, categ): #make columns data def\n",
    "    leie = pd.DataFrame(alt)\n",
    "    if categ =\n",
    "    leie.columns = ('name', 'from', 'trash', 'address', 'square_metre', 'price', 'r_type_amount', 'promoting', 'link', 'trash2')\n",
    "    return leie"
   ]
  },
  {
   "cell_type": "code",
   "execution_count": null,
   "id": "576b2a53",
   "metadata": {},
   "outputs": [],
   "source": []
  },
  {
   "cell_type": "code",
   "execution_count": null,
   "id": "13f82ef6",
   "metadata": {},
   "outputs": [],
   "source": []
  },
  {
   "cell_type": "code",
   "execution_count": null,
   "id": "9db84309",
   "metadata": {},
   "outputs": [],
   "source": [
    "#saving to csv\n",
    "leie.to_csv('leie_120723.csv', sep=',', index=False, encoding='utf-8-sig')"
   ]
  }
 ],
 "metadata": {
  "kernelspec": {
   "display_name": "Python 3 (ipykernel)",
   "language": "python",
   "name": "python3"
  },
  "language_info": {
   "codemirror_mode": {
    "name": "ipython",
    "version": 3
   },
   "file_extension": ".py",
   "mimetype": "text/x-python",
   "name": "python",
   "nbconvert_exporter": "python",
   "pygments_lexer": "ipython3",
   "version": "3.11.4"
  }
 },
 "nbformat": 4,
 "nbformat_minor": 5
}
